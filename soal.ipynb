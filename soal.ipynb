{
 "cells": [
  {
   "cell_type": "code",
   "execution_count": 2,
   "metadata": {},
   "outputs": [
    {
     "name": "stdout",
     "output_type": "stream",
     "text": [
      "2 adalah bilangan prima\n"
     ]
    }
   ],
   "source": [
    "#Nomor 1\n",
    "def mencaribilprima(b,n=None):\n",
    "    if n is None:\n",
    "        n = b - 1\n",
    "    if b < 2:\n",
    "        return False\n",
    "    if n == 1:\n",
    "        return True\n",
    "    if b % n == 0:\n",
    "        return False\n",
    "    return mencaribilprima(n, n-1)\n",
    "\n",
    "bil = int(input('masukkan suatu bilangan = '))\n",
    "if mencaribilprima(bil):\n",
    "    print(f'{bil} adalah bilangan prima')\n",
    "else:\n",
    "    print(f'{bil} bukan bilangan prima')"
   ]
  },
  {
   "cell_type": "code",
   "execution_count": 10,
   "metadata": {},
   "outputs": [
    {
     "name": "stdout",
     "output_type": "stream",
     "text": [
      "kasur ini rusak adalah palindrome\n"
     ]
    }
   ],
   "source": [
    "#Nomor 2\n",
    "def periksa_palindrome(k, start, end):\n",
    "    if start >= end:\n",
    "        return True\n",
    "    if k[start] != k[end]:\n",
    "        return False\n",
    "    return periksa_palindrome(k, start + 1, end - 1)\n",
    "\n",
    "def bersihkan(k):\n",
    "    bersih = []\n",
    "    for a in k:\n",
    "        if a.isalnum():\n",
    "            bersih.append(a.lower())\n",
    "    return ''. join(bersih)\n",
    "\n",
    "def adlh_palindrome(k):\n",
    "    kalbersih = bersihkan(k)\n",
    "    return periksa_palindrome(kalbersih, 0, len (kalbersih)-1)\n",
    "\n",
    "kalimat = \"kasur ini rusak\"\n",
    "if adlh_palindrome(kalimat):\n",
    "    print(f'{kalimat} adalah palindrome')\n",
    "else: \n",
    "    print(f'{kalimat}bukan palindorme')"
   ]
  },
  {
   "cell_type": "code",
   "execution_count": 14,
   "metadata": {},
   "outputs": [
    {
     "name": "stdout",
     "output_type": "stream",
     "text": [
      "Jumlah deret bilangan ganjil hingga 20 adalah 100.\n"
     ]
    }
   ],
   "source": [
    "#Nomor 3\n",
    "def jumlah_deret_ganjil(a):\n",
    "    if a < 1:\n",
    "        return 0\n",
    "    if a % 2 == 0:\n",
    "        a -= 1\n",
    "    if a == 1:\n",
    "        return 1\n",
    "    return a + jumlah_deret_ganjil(a-2)\n",
    "\n",
    "a = int(input('masukan sebuah bilangan = '))\n",
    "hasil = jumlah_deret_ganjil(a)\n",
    "if jumlah_deret_ganjil(a):\n",
    "    print(f\"Jumlah deret bilangan ganjil hingga {a} adalah {hasil}.\")"
   ]
  },
  {
   "cell_type": "code",
   "execution_count": 19,
   "metadata": {},
   "outputs": [
    {
     "name": "stdout",
     "output_type": "stream",
     "text": [
      "jumlah dari 234 adalah 9\n"
     ]
    }
   ],
   "source": [
    "#Nomor 4\n",
    "def jum_dari_digit(a):\n",
    "    if a == 0:\n",
    "        return 0\n",
    "    if a <= 10:\n",
    "        return a\n",
    "    return a % 10 + jum_dari_digit(a // 10)\n",
    "\n",
    "bil = int(input(\"masukan sebuah bilangan = \"))\n",
    "hasil = jum_dari_digit(bil)\n",
    "print(f'jumlah dari {bil} adalah {hasil}')"
   ]
  },
  {
   "cell_type": "code",
   "execution_count": 22,
   "metadata": {},
   "outputs": [
    {
     "name": "stdout",
     "output_type": "stream",
     "text": [
      "hasil kombinasi dari (12, 3) adalah 220\n"
     ]
    }
   ],
   "source": [
    "#Nomor 5\n",
    "def kombinasi(a, b):\n",
    "    if b == 0 or b == a:\n",
    "        return 1\n",
    "    return kombinasi(a-1, b-1) + kombinasi(a-1, b)\n",
    "\n",
    "a = (int(input('masukan sebuah bilangan = ')))\n",
    "b = (int(input('masukan sebuah bilangan = ')))\n",
    "hasil = kombinasi(a, b)\n",
    "print (f\"hasil kombinasi dari ({a}, {b}) adalah {hasil}\")"
   ]
  }
 ],
 "metadata": {
  "kernelspec": {
   "display_name": "Python 3",
   "language": "python",
   "name": "python3"
  },
  "language_info": {
   "codemirror_mode": {
    "name": "ipython",
    "version": 3
   },
   "file_extension": ".py",
   "mimetype": "text/x-python",
   "name": "python",
   "nbconvert_exporter": "python",
   "pygments_lexer": "ipython3",
   "version": "3.12.0"
  }
 },
 "nbformat": 4,
 "nbformat_minor": 2
}
